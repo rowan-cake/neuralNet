{
 "cells": [
  {
   "cell_type": "markdown",
   "metadata": {},
   "source": [
    "# Imports"
   ]
  },
  {
   "cell_type": "code",
   "execution_count": 10,
   "metadata": {},
   "outputs": [],
   "source": [
    "import torch\n",
    "import torch.nn as nn\n",
    "from torch.optim import SGD\n",
    "import torch.nn.functional as F\n",
    "from torch.utils.data import Dataset, DataLoader\n",
    "import torchvision\n",
    "import numpy as np\n",
    "import matplotlib.pyplot as plt\n"
   ]
  },
  {
   "cell_type": "markdown",
   "metadata": {},
   "source": [
    "This part under takes the data set from MNIST with all the numbers and labels for what the numbers should be and spilts it up into:\n",
    "figs = the image and its data\n",
    "figsValue = what the image should be labeled as "
   ]
  },
  {
   "cell_type": "code",
   "execution_count": 20,
   "metadata": {},
   "outputs": [
    {
     "data": {
      "text/plain": [
       "Text(0.5, 1.0, 'Number is 4')"
      ]
     },
     "execution_count": 20,
     "metadata": {},
     "output_type": "execute_result"
    },
    {
     "data": {
      "image/png": "[encoded data removed]",
      "text/plain": [
       "<Figure size 640x480 with 1 Axes>"
      ]
     },
     "metadata": {},
     "output_type": "display_data"
    }
   ],
   "source": [
    "figs, figsValue = torch.load(\"C:\\\\Users\\\\caker\\\\GitHubRepos\\\\neuralNet\\\\DataMNIST\\\\processed\\\\training.pt\")\n",
    "\n",
    "plt.imshow(figs[2].numpy())\n",
    "plt.title(f'Number is {figsValue[2].numpy()}')\n"
   ]
  },
  {
   "cell_type": "markdown",
   "metadata": {},
   "source": [
    "Now we take the `figsValue` and turn it into a 10 dimensional vector (because there are numbers 0-9 in the data set) and make it have 1 for the label its supposed to display\n",
    "e.g figValue[1] = \"4\" => figValue[1] = \"0000100000\"\n",
    "we do this with a \"one hot encoder\" whatever that is\n"
   ]
  },
  {
   "cell_type": "code",
   "execution_count": 15,
   "metadata": {},
   "outputs": [
    {
     "data": {
      "text/plain": [
       "torch.Size([60000, 10])"
      ]
     },
     "execution_count": 15,
     "metadata": {},
     "output_type": "execute_result"
    }
   ],
   "source": [
    "figsValue = F.one_hot(figsValue,num_classes=10)\n",
    "figsValue.shape"
   ]
  },
  {
   "cell_type": "markdown",
   "metadata": {},
   "source": [
    "So now we have to deal with the `figs` becasue currentally this is 6000 28x28 matrix's (i think) but it'd be nicer if it was 6000 784 dimiensional vectors (28^2). So we change that now "
   ]
  },
  {
   "cell_type": "code",
   "execution_count": 16,
   "metadata": {},
   "outputs": [
    {
     "data": {
      "text/plain": [
       "torch.Size([60000, 784])"
      ]
     },
     "execution_count": 16,
     "metadata": {},
     "output_type": "execute_result"
    }
   ],
   "source": [
    "figs.view(-1,28**2).shape"
   ]
  },
  {
   "cell_type": "markdown",
   "metadata": {},
   "source": [
    "Ok now we know how to setup the data so that we can train it now we will make it easier to train. "
   ]
  },
  {
   "cell_type": "markdown",
   "metadata": {},
   "source": [
    "Okay now we have to make an dataset object so its easier to train (i think).Some points here to notice are:\n",
    "- The CTDataset class has a inheritance relationship with the Dataset class of torch.utils.data\n",
    "- The `figs` data is loaded and then normilized because the pixels are form 0-255 (which indiactes brightness) to now between 0-1\n",
    "- The `figs` data is not into a 784 dimesinol vector yet (because we want to be able to plot these images)\n",
    "- You have to overide some of these functions so that we can use some methods on this object later (len,getitem)"
   ]
  },
  {
   "cell_type": "code",
   "execution_count": 22,
   "metadata": {},
   "outputs": [],
   "source": [
    "class CTDataset(Dataset):\n",
    "    def __init__(self, filepath):\n",
    "        self.figs, self.figsValue = torch.load(filepath)\n",
    "        self.figs = self.figs / 255.\n",
    "        self.figsValue = F.one_hot(self.figsValue, num_classes=10).to(float)\n",
    "    def __len__(self): \n",
    "        return self.figs.shape[0]\n",
    "    def __getitem__(self, ix): \n",
    "        return self.figs[ix], self.figsValue[ix]"
   ]
  },
  {
   "cell_type": "markdown",
   "metadata": {},
   "source": [
    "Now we spilt it into two different data sets (80/20 rule) but I think this data set is accutally a bit different. "
   ]
  },
  {
   "cell_type": "code",
   "execution_count": 23,
   "metadata": {},
   "outputs": [],
   "source": [
    "trainDS = CTDataset(\"C:\\\\Users\\\\caker\\\\GitHubRepos\\\\neuralNet\\\\DataMNIST\\\\processed\\\\training.pt\")\n",
    "testDS = CTDataset(\"C:\\\\Users\\\\caker\\\\GitHubRepos\\\\neuralNet\\\\DataMNIST\\\\processed\\\\test.pt\")"
   ]
  },
  {
   "cell_type": "code",
   "execution_count": 24,
   "metadata": {},
   "outputs": [
    {
     "data": {
      "text/plain": [
       "60000"
      ]
     },
     "execution_count": 24,
     "metadata": {},
     "output_type": "execute_result"
    }
   ],
   "source": [
    "len(trainDS)"
   ]
  },
  {
   "cell_type": "markdown",
   "metadata": {},
   "source": [
    "Cool now what we need to is to "
   ]
  }
 ],
 "metadata": {
  "kernelspec": {
   "display_name": "Python 3",
   "language": "python",
   "name": "python3"
  },
  "language_info": {
   "codemirror_mode": {
    "name": "ipython",
    "version": 3
   },
   "file_extension": ".py",
   "mimetype": "text/x-python",
   "name": "python",
   "nbconvert_exporter": "python",
   "pygments_lexer": "ipython3",
   "version": "3.12.1"
  }
 },
 "nbformat": 4,
 "nbformat_minor": 2
}
