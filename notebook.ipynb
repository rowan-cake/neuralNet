{
 "cells": [
  {
   "cell_type": "markdown",
   "metadata": {},
   "source": [
    "# Imports"
   ]
  },
  {
   "cell_type": "code",
   "execution_count": 10,
   "metadata": {},
   "outputs": [],
   "source": [
    "import torch\n",
    "import torch.nn as nn\n",
    "from torch.optim import SGD\n",
    "import torch.nn.functional as F\n",
    "from torch.utils.data import Dataset, DataLoader\n",
    "import torchvision\n",
    "import numpy as np\n",
    "import matplotlib.pyplot as plt\n"
   ]
  },
  {
   "cell_type": "markdown",
   "metadata": {},
   "source": [
    "This part under takes the data set from MNIST with all the numbers and labels for what the numbers should be and spilts it up into:\n",
    "figs = the image and its data\n",
    "figsValue = what the image should be labeled as "
   ]
  },
  {
   "cell_type": "code",
   "execution_count": 20,
   "metadata": {},
   "outputs": [
    {
     "data": {
      "text/plain": [
       "Text(0.5, 1.0, 'Number is 4')"
      ]
     },
     "execution_count": 20,
     "metadata": {},
     "output_type": "execute_result"
    },
    {
     "data": {
      "image/png": "[encoded data removed]",
      "text/plain": [
       "<Figure size 640x480 with 1 Axes>"
      ]
     },
     "metadata": {},
     "output_type": "display_data"
    }
   ],
   "source": [
    "figs, figsValue = torch.load(\"C:\\\\Users\\\\caker\\\\GitHubRepos\\\\neuralNet\\\\DataMNIST\\\\processed\\\\training.pt\")\n",
    "\n",
    "plt.imshow(figs[2].numpy())\n",
    "plt.title(f'Number is {figsValue[2].numpy()}')\n"
   ]
  },
  {
   "cell_type": "markdown",
   "metadata": {},
   "source": [
    "Now we take the `figsValue` and turn it into a 10 dimensional vector (because there are numbers 0-9 in the data set) and make it have 1 for the label its supposed to display\n",
    "e.g figValue[1] = \"4\" => figValue[1] = \"0000100000\"\n",
    "we do this with a \"one hot encoder\" whatever that is\n"
   ]
  },
  {
   "cell_type": "code",
   "execution_count": 15,
   "metadata": {},
   "outputs": [
    {
     "data": {
      "text/plain": [
       "torch.Size([60000, 10])"
      ]
     },
     "execution_count": 15,
     "metadata": {},
     "output_type": "execute_result"
    }
   ],
   "source": [
    "figsValue = F.one_hot(figsValue,num_classes=10)\n",
    "figsValue.shape"
   ]
  },
  {
   "cell_type": "markdown",
   "metadata": {},
   "source": [
    "So now we have to deal with the `figs` becasue currentally this is 6000 28x28 matrix's (i think) but it'd be nicer if it was 6000 784 dimiensional vectors (28^2). So we change that now "
   ]
  },
  {
   "cell_type": "code",
   "execution_count": 16,
   "metadata": {},
   "outputs": [
    {
     "data": {
      "text/plain": [
       "torch.Size([60000, 784])"
      ]
     },
     "execution_count": 16,
     "metadata": {},
     "output_type": "execute_result"
    }
   ],
   "source": [
    "figs.view(-1,28**2).shape"
   ]
  },
  {
   "cell_type": "markdown",
   "metadata": {},
   "source": [
    "Ok now we know how to setup the data so that we can train it now we will make it easier to train. "
   ]
  },
  {
   "cell_type": "markdown",
   "metadata": {},
   "source": [
    "Okay now we have to make an dataset object so its easier to train (i think).Some points here to notice are:\n",
    "- The CTDataset class has a inheritance relationship with the Dataset class of torch.utils.data\n",
    "- The `figs` data is loaded and then normilized because the pixels are form 0-255 (which indiactes brightness) to now between 0-1\n",
    "- The `figs` data is not into a 784 dimesinol vector yet (because we want to be able to plot these images)\n",
    "- You have to overide some of these functions so that we can use some methods on this object later (len,getitem)\n",
    "- also notice that a image and label is returned(a tuple i beleive) from the getitem so thats usefull"
   ]
  },
  {
   "cell_type": "code",
   "execution_count": 22,
   "metadata": {},
   "outputs": [],
   "source": [
    "class CTDataset(Dataset):\n",
    "    def __init__(self, filepath):\n",
    "        self.figs, self.figsValue = torch.load(filepath)\n",
    "        self.figs = self.figs / 255.\n",
    "        self.figsValue = F.one_hot(self.figsValue, num_classes=10).to(float)\n",
    "    def __len__(self): \n",
    "        return self.figs.shape[0]\n",
    "    def __getitem__(self, ix): \n",
    "        return self.figs[ix], self.figsValue[ix]"
   ]
  },
  {
   "cell_type": "markdown",
   "metadata": {},
   "source": [
    "Now we spilt it into two different data sets (80/20 rule) but I think this data set is accutally a bit different. "
   ]
  },
  {
   "cell_type": "code",
   "execution_count": 23,
   "metadata": {},
   "outputs": [],
   "source": [
    "trainDS = CTDataset(\"C:\\\\Users\\\\caker\\\\GitHubRepos\\\\neuralNet\\\\DataMNIST\\\\processed\\\\training.pt\")\n",
    "testDS = CTDataset(\"C:\\\\Users\\\\caker\\\\GitHubRepos\\\\neuralNet\\\\DataMNIST\\\\processed\\\\test.pt\")"
   ]
  },
  {
   "cell_type": "code",
   "execution_count": 24,
   "metadata": {},
   "outputs": [
    {
     "data": {
      "text/plain": [
       "60000"
      ]
     },
     "execution_count": 24,
     "metadata": {},
     "output_type": "execute_result"
    }
   ],
   "source": [
    "# testing to see how it works\n",
    "len(trainDS)"
   ]
  },
  {
   "cell_type": "markdown",
   "metadata": {},
   "source": [
    "Cool now what we need to is to wrap this Dataset with a dataloader in order to control batch size (no idea why that matters) "
   ]
  },
  {
   "cell_type": "markdown",
   "metadata": {},
   "source": [
    "We can then put the Dataset objects inside a DataLoader class. This is useful because we can specify a batch_size. Each iteration through the dataloader will yield a tensor where the first dimension is equal to the batch_size."
   ]
  },
  {
   "cell_type": "code",
   "execution_count": 25,
   "metadata": {},
   "outputs": [],
   "source": [
    "train_dl = DataLoader(trainDS, batch_size=5)"
   ]
  },
  {
   "cell_type": "code",
   "execution_count": 26,
   "metadata": {},
   "outputs": [
    {
     "name": "stdout",
     "output_type": "stream",
     "text": [
      "torch.Size([5, 28, 28])\n",
      "torch.Size([5, 10])\n"
     ]
    }
   ],
   "source": [
    "# how that is working\n",
    "for x, y in train_dl:\n",
    "    print(x.shape)\n",
    "    print(y.shape)\n",
    "    break"
   ]
  },
  {
   "cell_type": "code",
   "execution_count": 27,
   "metadata": {},
   "outputs": [
    {
     "data": {
      "text/plain": [
       "12000"
      ]
     },
     "execution_count": 27,
     "metadata": {},
     "output_type": "execute_result"
    }
   ],
   "source": [
    "len(train_dl) #because it has batches of 5 x 12000 = 60 000"
   ]
  },
  {
   "cell_type": "markdown",
   "metadata": {},
   "source": [
    "# Cross Entropy Loss \n",
    "- using it without understanding \n",
    "- i know it has something to do with how the weights of the neural network change and we need to minimize this fucntion "
   ]
  },
  {
   "cell_type": "code",
   "execution_count": 36,
   "metadata": {},
   "outputs": [],
   "source": [
    "L = nn.CrossEntropyLoss()"
   ]
  },
  {
   "cell_type": "markdown",
   "metadata": {},
   "source": [
    "# The network\n",
    "- I guess this must be the standard archticture of a NN  \n",
    "\n",
    "Questions I have are:\n",
    "- what is this nn.Module inherantice relationship\n",
    "- why do we change the image data here and not in the `CTDataset` object\n",
    "- dont know what `squeeze` or `view` does\n",
    "-  "
   ]
  },
  {
   "cell_type": "code",
   "execution_count": 29,
   "metadata": {},
   "outputs": [],
   "source": [
    "class MyNeuralNet(nn.Module):\n",
    "    def __init__(self):\n",
    "        super().__init__()\n",
    "        self.Matrix1 = nn.Linear(28**2,100)\n",
    "        self.Matrix2 = nn.Linear(100,50)\n",
    "        self.Matrix3 = nn.Linear(50,10)\n",
    "        self.R = nn.ReLU()\n",
    "    def forward(self,x):\n",
    "        x = x.view(-1,28**2)\n",
    "        x = self.R(self.Matrix1(x))\n",
    "        x = self.R(self.Matrix2(x))\n",
    "        x = self.Matrix3(x)\n",
    "        return x.squeeze()\n",
    "netWork = MyNeuralNet()"
   ]
  },
  {
   "cell_type": "code",
   "execution_count": 33,
   "metadata": {},
   "outputs": [
    {
     "data": {
      "text/plain": [
       "tensor([[-0.0294,  0.1563,  0.0133, -0.0803, -0.1249, -0.0145, -0.1033,  0.1490,\n",
       "          0.1580,  0.0136],\n",
       "        [-0.0318,  0.1188,  0.0183, -0.0868, -0.1122,  0.0064, -0.1136,  0.1415,\n",
       "          0.1808,  0.0436],\n",
       "        [-0.0629,  0.1074, -0.0237, -0.0700, -0.1274, -0.0143, -0.1173,  0.1297,\n",
       "          0.1508,  0.0465],\n",
       "        [-0.0377,  0.1155, -0.0468, -0.1141, -0.1058, -0.0075, -0.0996,  0.1081,\n",
       "          0.1311,  0.0420]], grad_fn=<SqueezeBackward0>)"
      ]
     },
     "execution_count": 33,
     "metadata": {},
     "output_type": "execute_result"
    }
   ],
   "source": [
    "# feeding the NN without any training \n",
    "xs,ys =trainDS[0:4] # the image(xs) and its value(ys)\n",
    "netWork(xs)"
   ]
  },
  {
   "cell_type": "markdown",
   "metadata": {},
   "source": [
    "Curently the network is not tuned so its just spiting out random values which are coming from the network (idk how) eveneuatly these two should line up"
   ]
  },
  {
   "cell_type": "code",
   "execution_count": 34,
   "metadata": {},
   "outputs": [
    {
     "data": {
      "text/plain": [
       "tensor([[0., 0., 0., 0., 0., 1., 0., 0., 0., 0.],\n",
       "        [1., 0., 0., 0., 0., 0., 0., 0., 0., 0.],\n",
       "        [0., 0., 0., 0., 1., 0., 0., 0., 0., 0.],\n",
       "        [0., 1., 0., 0., 0., 0., 0., 0., 0., 0.]], dtype=torch.float64)"
      ]
     },
     "execution_count": 34,
     "metadata": {},
     "output_type": "execute_result"
    }
   ],
   "source": [
    "ys"
   ]
  },
  {
   "cell_type": "markdown",
   "metadata": {},
   "source": [
    "Stochastic gradient decesent to minimize the cross entropy loss function!\n",
    "\n",
    "\"We want these predictions f(xs) to match the ys for all images. For these to match, the loss function L(f(xs), ys) should be as small as possible. As such, we adjust the weights of f such that L becomes as small as possible. This is done below:\"\n",
    "\n",
    "- So right now our loss is below  (2.3296) and we want to get this number close to 0\n",
    "- Below is one part of the iteration of the training prosces "
   ]
  },
  {
   "cell_type": "code",
   "execution_count": 37,
   "metadata": {},
   "outputs": [
    {
     "data": {
      "text/plain": [
       "tensor(2.3296, dtype=torch.float64, grad_fn=<DivBackward1>)"
      ]
     },
     "execution_count": 37,
     "metadata": {},
     "output_type": "execute_result"
    }
   ],
   "source": [
    "L(netWork(xs),ys)"
   ]
  },
  {
   "cell_type": "markdown",
   "metadata": {},
   "source": [
    "# Training\n",
    "- what is a epoch ? (goes through the entire dataset once (i.e 60 000))\n",
    "- what does `enumerate` do (okay it seems like this is kinda like a Iterator object in java and it just keeps track of numbers of iterations)"
   ]
  },
  {
   "cell_type": "code",
   "execution_count": 38,
   "metadata": {},
   "outputs": [],
   "source": [
    "def train_model(dataLoader, netWork, n_epochs=20):\n",
    "    # Optimization\n",
    "    opt = SGD(netWork.parameters(), lr=0.01)\n",
    "    L = nn.CrossEntropyLoss()\n",
    "\n",
    "    # Train model\n",
    "    losses = []\n",
    "    epochs = []\n",
    "    for epoch in range(n_epochs):\n",
    "        print(f'Epoch {epoch}')\n",
    "        N = len(dataLoader) # length of the data loader \n",
    "        for i, (x, y) in enumerate(dataLoader):\n",
    "            # Update the weights of the network\n",
    "            opt.zero_grad() \n",
    "            loss_value = L(netWork(x), y) \n",
    "            loss_value.backward() \n",
    "            opt.step() \n",
    "            # Store training data\n",
    "            epochs.append(epoch+i/N)\n",
    "            losses.append(loss_value.item())\n",
    "    return np.array(epochs), np.array(losses)"
   ]
  },
  {
   "cell_type": "code",
   "execution_count": 39,
   "metadata": {},
   "outputs": [
    {
     "name": "stdout",
     "output_type": "stream",
     "text": [
      "Epoch 0\n",
      "Epoch 1\n",
      "Epoch 2\n",
      "Epoch 3\n",
      "Epoch 4\n",
      "Epoch 5\n",
      "Epoch 6\n",
      "Epoch 7\n",
      "Epoch 8\n",
      "Epoch 9\n",
      "Epoch 10\n",
      "Epoch 11\n",
      "Epoch 12\n",
      "Epoch 13\n",
      "Epoch 14\n",
      "Epoch 15\n",
      "Epoch 16\n",
      "Epoch 17\n",
      "Epoch 18\n",
      "Epoch 19\n"
     ]
    }
   ],
   "source": [
    "# Now training it\n",
    "epoch_data, loss_data = train_model(train_dl, netWork)"
   ]
  },
  {
   "cell_type": "code",
   "execution_count": 40,
   "metadata": {},
   "outputs": [
    {
     "data": {
      "text/plain": [
       "Text(0.5, 1.0, 'Cross Entropy (per batch)')"
      ]
     },
     "execution_count": 40,
     "metadata": {},
     "output_type": "execute_result"
    },
    {
     "data": {
      "image/png": "[encoded data removed]",
      "text/plain": [
       "<Figure size 640x480 with 1 Axes>"
      ]
     },
     "metadata": {},
     "output_type": "display_data"
    }
   ],
   "source": [
    "# A plot of the loss function for every batch (batch_size = 5)\n",
    "plt.plot(epoch_data, loss_data)\n",
    "plt.xlabel('Epoch Number')\n",
    "plt.ylabel('Cross Entropy')\n",
    "plt.title('Cross Entropy (per batch)')"
   ]
  },
  {
   "cell_type": "code",
   "execution_count": 42,
   "metadata": {},
   "outputs": [
    {
     "name": "stdout",
     "output_type": "stream",
     "text": [
      "0.0015833333333333333\n"
     ]
    },
    {
     "data": {
      "image/png": "[encoded data removed]",
      "text/plain": [
       "<Figure size 640x480 with 1 Axes>"
      ]
     },
     "metadata": {},
     "output_type": "display_data"
    }
   ],
   "source": [
    "# now the average version\n",
    "epoch_data_avgd = epoch_data.reshape(20,-1).mean(axis=1)\n",
    "loss_data_avgd = loss_data.reshape(20,-1).mean(axis=1)\n",
    "\n",
    "plt.plot(epoch_data_avgd, loss_data_avgd, 'o--')\n",
    "plt.xlabel('Epoch Number')\n",
    "plt.ylabel('Cross Entropy')\n",
    "plt.title('Cross Entropy (avgd per epoch)')\n",
    "\n",
    "print(epoch_data[19])"
   ]
  },
  {
   "cell_type": "markdown",
   "metadata": {},
   "source": [
    "pretty cool the model is now trained lets see a little test run"
   ]
  },
  {
   "cell_type": "code",
   "execution_count": 49,
   "metadata": {},
   "outputs": [
    {
     "data": {
      "text/plain": [
       "<matplotlib.image.AxesImage at 0x28346cbc5c0>"
      ]
     },
     "execution_count": 49,
     "metadata": {},
     "output_type": "execute_result"
    },
    {
     "data": {
      "image/png": "[encoded data removed]",
      "text/plain": [
       "<Figure size 640x480 with 1 Axes>"
      ]
     },
     "metadata": {},
     "output_type": "display_data"
    }
   ],
   "source": [
    "sample5 = trainDS[0][0]\n",
    "plt.imshow(sample5) # is the number 5 "
   ]
  },
  {
   "cell_type": "markdown",
   "metadata": {},
   "source": [
    "So we have a 5 lets see what the model predicts it to be (with the network now being trained)"
   ]
  },
  {
   "cell_type": "code",
   "execution_count": 54,
   "metadata": {},
   "outputs": [
    {
     "name": "stdout",
     "output_type": "stream",
     "text": [
      "tensor([ -6.4316,   1.2485,  -1.9968,  25.9152, -31.3891,  30.8704, -11.5109,\n",
      "        -10.5378,  -2.4535,   5.6984], grad_fn=<SqueezeBackward0>)\n"
     ]
    },
    {
     "data": {
      "text/plain": [
       "tensor(5)"
      ]
     },
     "execution_count": 54,
     "metadata": {},
     "output_type": "execute_result"
    }
   ],
   "source": [
    "prediction = netWork(sample5)\n",
    "\n",
    "print(prediction) # the not normilized preditction\n",
    "torch.argmax(prediction) # the normilized preditction"
   ]
  },
  {
   "cell_type": "markdown",
   "metadata": {},
   "source": [
    "WOWWWWW thast cool it got it interesting that the next most likely number is a 3."
   ]
  },
  {
   "cell_type": "markdown",
   "metadata": {},
   "source": [
    "# Test\n",
    "Okay so now we have to test the model now that it is all done being trained (using the test dataset)"
   ]
  },
  {
   "cell_type": "code",
   "execution_count": 87,
   "metadata": {},
   "outputs": [
    {
     "name": "stdout",
     "output_type": "stream",
     "text": [
      "Acuuracy is = 97.530000%\n"
     ]
    }
   ],
   "source": [
    "# TO GET ACCURACY \n",
    "iterations = 0 \n",
    "for img, newImgValue in testDS: # for each img and newImgValue in testDS do the follwing\n",
    "    if torch.argmax(netWork(img)) == torch.argmax(newImgValue): # if the prediction is the same as the accuatly result\n",
    "        iterations+=1\n",
    "        \n",
    "print(\"Acuuracy is = %f%%\" % (iterations/len(testDS)*100))\n",
    "\n"
   ]
  },
  {
   "cell_type": "markdown",
   "metadata": {},
   "source": [
    "NOW ALL DONE and we have a accyraacy of 97.530% which is pretty darn good. "
   ]
  }
 ],
 "metadata": {
  "kernelspec": {
   "display_name": "Python 3",
   "language": "python",
   "name": "python3"
  },
  "language_info": {
   "codemirror_mode": {
    "name": "ipython",
    "version": 3
   },
   "file_extension": ".py",
   "mimetype": "text/x-python",
   "name": "python",
   "nbconvert_exporter": "python",
   "pygments_lexer": "ipython3",
   "version": "3.12.1"
  }
 },
 "nbformat": 4,
 "nbformat_minor": 2
}
