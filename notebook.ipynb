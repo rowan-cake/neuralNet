{
 "cells": [
  {
   "cell_type": "markdown",
   "metadata": {},
   "source": [
    "# Imports"
   ]
  },
  {
   "cell_type": "code",
   "execution_count": 10,
   "metadata": {},
   "outputs": [],
   "source": [
    "import torch\n",
    "import torch.nn as nn\n",
    "from torch.optim import SGD\n",
    "import torch.nn.functional as F\n",
    "from torch.utils.data import Dataset, DataLoader\n",
    "import torchvision\n",
    "import numpy as np\n",
    "import matplotlib.pyplot as plt\n"
   ]
  },
  {
   "cell_type": "markdown",
   "metadata": {},
   "source": [
    "This part under takes the data set from MNIST with all the numbers and labels for what the numbers should be and spilts it up into:\n",
    "figs = the image and its data\n",
    "figsValue = what the image should be labeled as "
   ]
  },
  {
   "cell_type": "code",
   "execution_count": 11,
   "metadata": {},
   "outputs": [],
   "source": [
    "figs, figsValue = torch.load(\"C:\\\\Users\\\\caker\\\\GitHubRepos\\\\neuralNet\\\\DataMNIST\\\\processed\\\\training.pt\")\n",
    "\n",
    "# plt.imshow(x[2].numpy())\n",
    "# plt.title(f'Number is {y[2].numpy()}')\n"
   ]
  },
  {
   "cell_type": "markdown",
   "metadata": {},
   "source": [
    "Now we take the `figsValue` and turn it into a 10 dimensional vector (because there are numbers 0-9 in the data set) and make it have 1 for the label its supposed to display\n",
    "e.g figValue[1] = \"4\" => figValue[1] = \"0000100000\"\n",
    "we do this with a \"one hot encoder\" whatever that is\n"
   ]
  },
  {
   "cell_type": "code",
   "execution_count": 12,
   "metadata": {},
   "outputs": [
    {
     "data": {
      "text/plain": [
       "torch.Size([60000, 10])"
      ]
     },
     "execution_count": 12,
     "metadata": {},
     "output_type": "execute_result"
    }
   ],
   "source": [
    "figsValue = F.one_hot(figsValue,num_classes=10)\n",
    "figsValue.shape"
   ]
  },
  {
   "cell_type": "markdown",
   "metadata": {},
   "source": [
    "So now we have to deal with the `figs` becasue currentally this is 6000 28x28 matrix's (i think) but it'd be nicer if it was 6000 784 dimiensional vectors (28^2). So we change that now "
   ]
  },
  {
   "cell_type": "code",
   "execution_count": 13,
   "metadata": {},
   "outputs": [
    {
     "data": {
      "text/plain": [
       "torch.Size([60000, 784])"
      ]
     },
     "execution_count": 13,
     "metadata": {},
     "output_type": "execute_result"
    }
   ],
   "source": [
    "figs.view(-1,28**2).shape"
   ]
  },
  {
   "cell_type": "markdown",
   "metadata": {},
   "source": [
    "Ok now data is close to ready so now we have to set up "
   ]
  }
 ],
 "metadata": {
  "kernelspec": {
   "display_name": "Python 3",
   "language": "python",
   "name": "python3"
  },
  "language_info": {
   "codemirror_mode": {
    "name": "ipython",
    "version": 3
   },
   "file_extension": ".py",
   "mimetype": "text/x-python",
   "name": "python",
   "nbconvert_exporter": "python",
   "pygments_lexer": "ipython3",
   "version": "3.12.1"
  }
 },
 "nbformat": 4,
 "nbformat_minor": 2
}
